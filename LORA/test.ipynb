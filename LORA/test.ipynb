{
 "cells": [
  {
   "cell_type": "code",
   "execution_count": 4,
   "metadata": {},
   "outputs": [
    {
     "name": "stderr",
     "output_type": "stream",
     "text": [
      "Using custom data configuration Chr0my--Epidemic_music-83c4a6b17fa66f6f\n",
      "Found cached dataset parquet (/opt/ml/.cache/huggingface/datasets/Chr0my___parquet/Chr0my--Epidemic_music-83c4a6b17fa66f6f/0.0.0/2a3b91fbd88a2c90d1dbbb32b460cf621d31bd5b05b934492fdef7d8d6f236ec)\n",
      "100%|██████████| 1/1 [00:00<00:00, 272.16it/s]\n"
     ]
    }
   ],
   "source": [
    "from datasets import load_dataset\n",
    "dataset = load_dataset(\"Chr0my/Epidemic_music\")"
   ]
  },
  {
   "cell_type": "code",
   "execution_count": 5,
   "metadata": {},
   "outputs": [
    {
     "data": {
      "text/plain": [
       "Dataset({\n",
       "    features: ['title', 'id', 'added', 'length', 'bpm', 'isSfx', 'hasVocals', 'energyLevel', 'genres', 'url', 'metadataTags', 'moods'],\n",
       "    num_rows: 51353\n",
       "})"
      ]
     },
     "execution_count": 5,
     "metadata": {},
     "output_type": "execute_result"
    }
   ],
   "source": [
    "dataset['train']"
   ]
  },
  {
   "cell_type": "code",
   "execution_count": 14,
   "metadata": {},
   "outputs": [
    {
     "data": {
      "text/plain": [
       "{'angry',\n",
       " 'busy-frantic',\n",
       " 'casino',\n",
       " 'changing-tempo',\n",
       " 'chasing',\n",
       " 'countryside',\n",
       " 'dark',\n",
       " 'dreamy',\n",
       " 'eccentric',\n",
       " 'elegant',\n",
       " 'epic',\n",
       " 'euphoric',\n",
       " 'fear',\n",
       " 'floating',\n",
       " 'funny',\n",
       " 'glamorous',\n",
       " 'happy',\n",
       " 'heavy-ponderous',\n",
       " 'hopeful',\n",
       " 'industry',\n",
       " 'jungle',\n",
       " 'laid-back',\n",
       " 'lounge',\n",
       " 'marching',\n",
       " 'mysterious',\n",
       " 'newsroom',\n",
       " 'peaceful',\n",
       " 'quirky',\n",
       " 'relaxing',\n",
       " 'restless',\n",
       " 'romantic',\n",
       " 'running',\n",
       " 'sad',\n",
       " 'scary',\n",
       " 'sci-fi-space',\n",
       " 'sentimental',\n",
       " 'sexy',\n",
       " 'smooth',\n",
       " 'sneaking',\n",
       " 'snowy-holiday',\n",
       " 'sports-arena',\n",
       " 'sunny-holiday',\n",
       " 'suspense',\n",
       " 'water',\n",
       " 'weird'}"
      ]
     },
     "execution_count": 14,
     "metadata": {},
     "output_type": "execute_result"
    }
   ],
   "source": [
    "from itertools import chain\n",
    "\n",
    "set(list(chain(*dataset['train']['moods'])))"
   ]
  },
  {
   "cell_type": "code",
   "execution_count": 56,
   "metadata": {},
   "outputs": [],
   "source": [
    "import pandas as pd\n",
    "\n",
    "df = pd.DataFrame(dataset['train'])"
   ]
  },
  {
   "cell_type": "code",
   "execution_count": 78,
   "metadata": {},
   "outputs": [
    {
     "data": {
      "text/html": [
       "<div>\n",
       "<style scoped>\n",
       "    .dataframe tbody tr th:only-of-type {\n",
       "        vertical-align: middle;\n",
       "    }\n",
       "\n",
       "    .dataframe tbody tr th {\n",
       "        vertical-align: top;\n",
       "    }\n",
       "\n",
       "    .dataframe thead th {\n",
       "        text-align: right;\n",
       "    }\n",
       "</style>\n",
       "<table border=\"1\" class=\"dataframe\">\n",
       "  <thead>\n",
       "    <tr style=\"text-align: right;\">\n",
       "      <th></th>\n",
       "      <th>title</th>\n",
       "      <th>id</th>\n",
       "      <th>added</th>\n",
       "      <th>length</th>\n",
       "      <th>bpm</th>\n",
       "      <th>isSfx</th>\n",
       "      <th>hasVocals</th>\n",
       "      <th>energyLevel</th>\n",
       "      <th>genres</th>\n",
       "      <th>url</th>\n",
       "      <th>metadataTags</th>\n",
       "      <th>moods</th>\n",
       "    </tr>\n",
       "  </thead>\n",
       "  <tbody>\n",
       "    <tr>\n",
       "      <th>0</th>\n",
       "      <td>Biome</td>\n",
       "      <td>142561.0</td>\n",
       "      <td>2022-04-14T08:45:31</td>\n",
       "      <td>139.0</td>\n",
       "      <td>48.0</td>\n",
       "      <td>0.0</td>\n",
       "      <td>0.0</td>\n",
       "      <td>low</td>\n",
       "      <td>[solo-piano]</td>\n",
       "      <td>https://dkihjuum4jcjr.cloudfront.net/ES_ITUNES...</td>\n",
       "      <td>[sparse, storytelling]</td>\n",
       "      <td>[sentimental, peaceful]</td>\n",
       "    </tr>\n",
       "    <tr>\n",
       "      <th>1</th>\n",
       "      <td>Wildflowers</td>\n",
       "      <td>143029.0</td>\n",
       "      <td>2022-05-17T13:03:52</td>\n",
       "      <td>172.0</td>\n",
       "      <td>0.0</td>\n",
       "      <td>0.0</td>\n",
       "      <td>0.0</td>\n",
       "      <td>medium</td>\n",
       "      <td>[solo-piano]</td>\n",
       "      <td>https://dkihjuum4jcjr.cloudfront.net/ES_ITUNES...</td>\n",
       "      <td>[light, changing tempo, happy, bright, hopeful]</td>\n",
       "      <td>[restless, peaceful]</td>\n",
       "    </tr>\n",
       "  </tbody>\n",
       "</table>\n",
       "</div>"
      ],
      "text/plain": [
       "         title        id                added  length   bpm  isSfx  hasVocals  \\\n",
       "0        Biome  142561.0  2022-04-14T08:45:31   139.0  48.0    0.0        0.0   \n",
       "1  Wildflowers  143029.0  2022-05-17T13:03:52   172.0   0.0    0.0        0.0   \n",
       "\n",
       "  energyLevel        genres  \\\n",
       "0         low  [solo-piano]   \n",
       "1      medium  [solo-piano]   \n",
       "\n",
       "                                                 url  \\\n",
       "0  https://dkihjuum4jcjr.cloudfront.net/ES_ITUNES...   \n",
       "1  https://dkihjuum4jcjr.cloudfront.net/ES_ITUNES...   \n",
       "\n",
       "                                      metadataTags                    moods  \n",
       "0                           [sparse, storytelling]  [sentimental, peaceful]  \n",
       "1  [light, changing tempo, happy, bright, hopeful]     [restless, peaceful]  "
      ]
     },
     "execution_count": 78,
     "metadata": {},
     "output_type": "execute_result"
    }
   ],
   "source": [
    "df = df[df[]]"
   ]
  },
  {
   "cell_type": "code",
   "execution_count": 1,
   "metadata": {},
   "outputs": [],
   "source": [
    "import sys\n",
    "sys.path.append(\"/opt/ml/final/riffusion\")"
   ]
  },
  {
   "cell_type": "code",
   "execution_count": 57,
   "metadata": {},
   "outputs": [],
   "source": [
    "meta = df.iloc[:,-2:]"
   ]
  },
  {
   "cell_type": "code",
   "execution_count": 75,
   "metadata": {},
   "outputs": [],
   "source": [
    "sentiment = {\n",
    "    'angry':0,\n",
    "    'fear':0,\n",
    "    'happy':0,\n",
    "    \"sad\":0,\n",
    "    \"weird\":0,\n",
    "    \"funny\":0,\n",
    "    \"quirky\":0\n",
    "}"
   ]
  },
  {
   "cell_type": "code",
   "execution_count": 76,
   "metadata": {},
   "outputs": [],
   "source": [
    "for moods in meta['moods']:\n",
    "    if moods[0] in sentiment.keys():\n",
    "        sentiment[moods[0]] = sentiment[moods[0]] + 1\n",
    "    if len(moods) > 1:\n",
    "        if moods[1] in sentiment.keys():\n",
    "            sentiment[moods[1]] = sentiment[moods[1]] + 1"
   ]
  },
  {
   "cell_type": "code",
   "execution_count": 77,
   "metadata": {},
   "outputs": [
    {
     "data": {
      "text/plain": [
       "{'angry': 1644,\n",
       " 'fear': 513,\n",
       " 'happy': 9550,\n",
       " 'sad': 2283,\n",
       " 'weird': 576,\n",
       " 'funny': 1193,\n",
       " 'quirky': 1812}"
      ]
     },
     "execution_count": 77,
     "metadata": {},
     "output_type": "execute_result"
    }
   ],
   "source": [
    "sentiment"
   ]
  },
  {
   "cell_type": "code",
   "execution_count": 74,
   "metadata": {},
   "outputs": [
    {
     "data": {
      "text/plain": [
       "51353"
      ]
     },
     "execution_count": 74,
     "metadata": {},
     "output_type": "execute_result"
    }
   ],
   "source": [
    "len(meta)"
   ]
  },
  {
   "cell_type": "code",
   "execution_count": 79,
   "metadata": {},
   "outputs": [
    {
     "name": "stderr",
     "output_type": "stream",
     "text": [
      "Using custom data configuration Chr0my--Epidemic_music-83c4a6b17fa66f6f\n",
      "Found cached dataset parquet (/opt/ml/.cache/huggingface/datasets/Chr0my___parquet/Chr0my--Epidemic_music-83c4a6b17fa66f6f/0.0.0/2a3b91fbd88a2c90d1dbbb32b460cf621d31bd5b05b934492fdef7d8d6f236ec)\n",
      "100%|██████████| 1/1 [00:00<00:00, 292.02it/s]\n"
     ]
    }
   ],
   "source": [
    "dataset = load_dataset(\"Chr0my/Epidemic_music\")"
   ]
  },
  {
   "cell_type": "code",
   "execution_count": 83,
   "metadata": {},
   "outputs": [],
   "source": [
    "sent_list =['angry',  'fear',  'happy',  'sad',  'weird',  'funny',  'quirky']"
   ]
  },
  {
   "cell_type": "code",
   "execution_count": 92,
   "metadata": {},
   "outputs": [
    {
     "data": {
      "text/plain": [
       "False"
      ]
     },
     "execution_count": 92,
     "metadata": {},
     "output_type": "execute_result"
    }
   ],
   "source": [
    "from itertools import chain\n",
    "chain(*['angry','a']) in sent_list"
   ]
  },
  {
   "cell_type": "code",
   "execution_count": 94,
   "metadata": {},
   "outputs": [],
   "source": [
    "dataset = pd.DataFrame(dataset['train'])"
   ]
  },
  {
   "cell_type": "code",
   "execution_count": 127,
   "metadata": {},
   "outputs": [],
   "source": [
    "targets = ['angry',  'fear',  'happy',  'sad',  'weird',  'funny',  'quirky']"
   ]
  },
  {
   "cell_type": "code",
   "execution_count": 16,
   "metadata": {},
   "outputs": [
    {
     "name": "stderr",
     "output_type": "stream",
     "text": [
      "Using custom data configuration Chr0my--Epidemic_music-83c4a6b17fa66f6f\n",
      "Found cached dataset parquet (/opt/ml/.cache/huggingface/datasets/Chr0my___parquet/Chr0my--Epidemic_music-83c4a6b17fa66f6f/0.0.0/2a3b91fbd88a2c90d1dbbb32b460cf621d31bd5b05b934492fdef7d8d6f236ec)\n",
      "100%|██████████| 1/1 [00:00<00:00, 264.99it/s]\n"
     ]
    },
    {
     "name": "stdout",
     "output_type": "stream",
     "text": [
      "5886\n",
      "['angry']\n",
      "Unexpected exception formatting exception. Falling back to standard exception\n"
     ]
    },
    {
     "name": "stderr",
     "output_type": "stream",
     "text": [
      "Traceback (most recent call last):\n",
      "  File \"/opt/conda/envs/jt/lib/python3.9/site-packages/IPython/core/interactiveshell.py\", line 3398, in run_code\n",
      "    exec(code_obj, self.user_global_ns, self.user_ns)\n",
      "  File \"/tmp/ipykernel_7015/1104336476.py\", line 35, in <cell line: 24>\n",
      "    opener.retrieve(i['url'], os.path.join(ori_path, new_path))\n",
      "  File \"/opt/conda/envs/jt/lib/python3.9/urllib/request.py\", line 1820, in retrieve\n",
      "    fp = self.open(url, data)\n",
      "  File \"/opt/conda/envs/jt/lib/python3.9/urllib/request.py\", line 1786, in open\n",
      "    return getattr(self, name)(url)\n",
      "  File \"/opt/conda/envs/jt/lib/python3.9/urllib/request.py\", line 1995, in open_https\n",
      "    return self._open_generic_http(self._https_connection, url, data)\n",
      "  File \"/opt/conda/envs/jt/lib/python3.9/urllib/request.py\", line 1958, in _open_generic_http\n",
      "    return self.http_error(\n",
      "  File \"/opt/conda/envs/jt/lib/python3.9/urllib/request.py\", line 1980, in http_error\n",
      "    return self.http_error_default(url, fp, errcode, errmsg, headers)\n",
      "  File \"/opt/conda/envs/jt/lib/python3.9/urllib/request.py\", line 1985, in http_error_default\n",
      "    raise HTTPError(url, errcode, errmsg, headers, None)\n",
      "urllib.error.HTTPError: HTTP Error 403: Forbidden\n",
      "\n",
      "During handling of the above exception, another exception occurred:\n",
      "\n",
      "Traceback (most recent call last):\n",
      "  File \"/opt/conda/envs/jt/lib/python3.9/site-packages/IPython/core/interactiveshell.py\", line 1990, in showtraceback\n",
      "    if hasattr(value, \"_render_traceback_\"):\n",
      "  File \"/opt/conda/envs/jt/lib/python3.9/tempfile.py\", line 472, in __getattr__\n",
      "    file = self.__dict__['file']\n",
      "KeyError: 'file'\n"
     ]
    }
   ],
   "source": [
    "import sys\n",
    "sys.path.append('/opt/ml/final/riffusion')\n",
    "sys.path.append('/opt/ml/final/')\n",
    "\n",
    "from datasets import load_dataset\n",
    "import pandas as pd\n",
    "import os\n",
    "from urllib import request\n",
    "from pydub import AudioSegment\n",
    "import numpy as np\n",
    "import time\n",
    "import random\n",
    "import requests\n",
    "\n",
    "ori_path = '/opt/ml/final/mp3_original_folder'\n",
    "dataset = load_dataset(\"Chr0my/Epidemic_music\")\n",
    "\n",
    "# sent_list =['angry',  'fear',  'happy',  'sad',  'weird',  'funny',  'quirky']\n",
    "sent_list =['angry',  'fear', 'sad',  'weird',  'funny',  'quirky']\n",
    "base_path = '/opt/ml/final/spectrogram_folder'\n",
    "\n",
    "# opener = request.URLopener()\n",
    "# opener.addheaders = [('User-Agent','Mozilla/5.0 (X11; Linux x86_64) AppleWebKit/537.11 (KHTML, like Gecko) Chrome/23.0.1271.64 Safari/537.11')]\n",
    "\n",
    "for idx, i in enumerate(dataset['train']):\n",
    "    inter_section = list(set(i['moods']) & set(sent_list))\n",
    "    if idx < 5886:\n",
    "        continue\n",
    "    if idx % 500 == 0:\n",
    "        time.sleep(random.randint(2,4))\n",
    "    if inter_section:\n",
    "        print(idx)\n",
    "        print(inter_section)\n",
    "        genres = i['genres']\n",
    "        new_path = os.path.join(ori_path, f'{inter_section[0]}/{idx}.mp3')\n",
    "        content = requests.get(i['url'])\n",
    "        with open(os.path.join(ori_path, new_path), \"wb\") as file:\n",
    "            file.write(content.content)"
   ]
  },
  {
   "cell_type": "code",
   "execution_count": 5,
   "metadata": {},
   "outputs": [
    {
     "data": {
      "text/plain": [
       "Dataset({\n",
       "    features: ['title', 'id', 'added', 'length', 'bpm', 'isSfx', 'hasVocals', 'energyLevel', 'genres', 'url', 'metadataTags', 'moods'],\n",
       "    num_rows: 51353\n",
       "})"
      ]
     },
     "execution_count": 5,
     "metadata": {},
     "output_type": "execute_result"
    }
   ],
   "source": [
    "dataset['train']"
   ]
  },
  {
   "cell_type": "code",
   "execution_count": null,
   "metadata": {},
   "outputs": [],
   "source": [
    "for idx, i in enumerate(dataset['train']):\n",
    "    #moods = ' '.join(i['moods'])\n",
    "    inter_section = list(set(i['moods']) & set(sent_list))\n",
    "    if idx % 500 == 0:\n",
    "        time.sleep(5)\n",
    "    if inter_section:\n",
    "        print(idx)\n",
    "        print(inter_section)\n",
    "        genres = i['genres']\n",
    "        new_path = os.path.join(ori_path, f'{inter_section[0]}/{idx}.mp3')\n",
    "        request.urlretrieve(i['url'], os.path.join(ori_path, new_path))"
   ]
  },
  {
   "cell_type": "code",
   "execution_count": 4,
   "metadata": {},
   "outputs": [
    {
     "ename": "TypeError",
     "evalue": "unhashable type: 'list'",
     "output_type": "error",
     "traceback": [
      "\u001b[0;31m---------------------------------------------------------------------------\u001b[0m",
      "\u001b[0;31mTypeError\u001b[0m                                 Traceback (most recent call last)",
      "\u001b[1;32m/opt/ml/final/LORA/test.ipynb 셀 20\u001b[0m in \u001b[0;36m<cell line: 1>\u001b[0;34m()\u001b[0m\n\u001b[0;32m----> <a href='vscode-notebook-cell://ssh-remote%2B7b22686f73744e616d65223a224a4432227d/opt/ml/final/LORA/test.ipynb#X25sdnNjb2RlLXJlbW90ZQ%3D%3D?line=0'>1</a>\u001b[0m dataset[\u001b[39m'\u001b[39m\u001b[39mtrain\u001b[39m\u001b[39m'\u001b[39m] \u001b[39m=\u001b[39m dataset[\u001b[39m'\u001b[39m\u001b[39mtrain\u001b[39m\u001b[39m'\u001b[39m][\u001b[39mlist\u001b[39m(\u001b[39mset\u001b[39;49m(dataset[\u001b[39m'\u001b[39;49m\u001b[39mtrain\u001b[39;49m\u001b[39m'\u001b[39;49m][\u001b[39m'\u001b[39;49m\u001b[39mmoods\u001b[39;49m\u001b[39m'\u001b[39;49m])\u001b[39m&\u001b[39m\u001b[39mset\u001b[39m(sent_list))]\n",
      "\u001b[0;31mTypeError\u001b[0m: unhashable type: 'list'"
     ]
    }
   ],
   "source": [
    "dataset['train'] = dataset['train'][set(dataset['train']['moods'])&set(sent_list)]"
   ]
  },
  {
   "cell_type": "code",
   "execution_count": 3,
   "metadata": {},
   "outputs": [
    {
     "name": "stderr",
     "output_type": "stream",
     "text": [
      "Cloning https://huggingface.co/JD97/Riffusion_sentiment_LoRA into local empty directory.\n",
      "Pulling changes ...\n",
      "Upload file pytorch_lora_weights.bin: 100%|██████████| 521/521 [00:00<?, ?B/s]remote: Scanning LFS files for validity...        \n",
      "remote: LFS file scan complete.        \n",
      "To https://huggingface.co/JD97/Riffusion_sentiment_LoRA\n",
      "   d68337a..5eb4da3  main -> main\n",
      "\n",
      "Upload file pytorch_lora_weights.bin: 100%|██████████| 521/521 [00:01<?, ?B/s]\n"
     ]
    }
   ],
   "source": [
    "from huggingface_hub import Repository\n",
    "import torch \n",
    "\n",
    "with Repository(\"Riffusion\", clone_from=\"JD97/Riffusion_sentiment_LoRA\", token=True).commit(commit_message=\"ADD another version batch_size 64, epoch 3 :)\"):\n",
    "    torch.save('/opt/ml/final/LORA/output/pytorch_lora_weights.bin', \"pytorch_lora_weights.bin\")"
   ]
  },
  {
   "cell_type": "code",
   "execution_count": null,
   "metadata": {},
   "outputs": [],
   "source": []
  }
 ],
 "metadata": {
  "kernelspec": {
   "display_name": "jt",
   "language": "python",
   "name": "python3"
  },
  "language_info": {
   "codemirror_mode": {
    "name": "ipython",
    "version": 3
   },
   "file_extension": ".py",
   "mimetype": "text/x-python",
   "name": "python",
   "nbconvert_exporter": "python",
   "pygments_lexer": "ipython3",
   "version": "3.9.16"
  },
  "orig_nbformat": 4,
  "vscode": {
   "interpreter": {
    "hash": "ad6398f4a079717af4ccea37b02657ca00ccf7a172c7974380ef959e683dd091"
   }
  }
 },
 "nbformat": 4,
 "nbformat_minor": 2
}
